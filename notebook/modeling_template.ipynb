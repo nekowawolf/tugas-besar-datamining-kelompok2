{
  "nbformat": 4,
  "nbformat_minor": 0,
  "metadata": {
    "colab": {
      "provenance": []
    },
    "kernelspec": {
      "name": "python3",
      "display_name": "Python 3"
    },
    "language_info": {
      "name": "python"
    }
  },
  "cells": [
    {
      "cell_type": "markdown",
      "source": [
        "# 🤖 Modeling dan Evaluasi"
      ],
      "metadata": {
        "id": "rySzwkKGO-LE"
      }
    },
    {
      "cell_type": "code",
      "source": [
        "# 1. Import library\n",
        "import pandas as pd\n",
        "import seaborn as sns\n",
        "import matplotlib.pyplot as plt\n",
        "\n",
        "from sklearn.model_selection import train_test_split\n",
        "from sklearn.linear_model import LogisticRegression\n",
        "from sklearn.ensemble import RandomForestClassifier\n",
        "from sklearn.neighbors import KNeighborsClassifier\n",
        "from sklearn.metrics import classification_report, accuracy_score, confusion_matrix\n",
        "\n",
        "from imblearn.over_sampling import SMOTE"
      ],
      "metadata": {
        "id": "QLgo2_VUO-4z"
      },
      "execution_count": 7,
      "outputs": []
    },
    {
      "cell_type": "code",
      "source": [
        "# 2. Load dataset final hasil preprocessing dari GitHub\n",
        "df = pd.read_csv('https://github.com/nekowawolf/NASA-promise-dataset/raw/main/cm1_final-23-07-2025.csv')\n",
        "print(\"Ukuran dataset:\", df.shape)\n",
        "df.head()"
      ],
      "metadata": {
        "colab": {
          "base_uri": "https://localhost:8080/",
          "height": 359
        },
        "id": "6MuJk_jgPAK3",
        "outputId": "532109cc-e786-4e8b-a6db-a66271880881"
      },
      "execution_count": 8,
      "outputs": [
        {
          "output_type": "stream",
          "name": "stdout",
          "text": [
            "Ukuran dataset: (498, 22)\n"
          ]
        },
        {
          "output_type": "execute_result",
          "data": {
            "text/plain": [
              "        loc      v(g)     ev(g)     iv(g)         n         v         l  \\\n",
              "0  0.000237  0.004211  0.013793  0.006452  0.000145  0.000076  1.000000   \n",
              "1  0.000000  0.000000  0.000000  0.000000  0.000000  0.000058  0.769231   \n",
              "2  0.054502  0.042105  0.000000  0.032258  0.029894  0.018052  0.084615   \n",
              "3  0.045024  0.031579  0.103448  0.016129  0.022179  0.012584  0.046154   \n",
              "4  0.054502  0.052632  0.172414  0.016129  0.034233  0.020213  0.046154   \n",
              "\n",
              "          d         i             e  ...  lOCode  lOComment   lOBlank  \\\n",
              "0  0.010336  0.004427  6.036150e-07  ...  0.0250    0.00590  0.012195   \n",
              "1  0.007951  0.003405  4.643192e-07  ...  0.0125    0.00295  0.006098   \n",
              "2  0.075535  0.110801  1.363599e-03  ...  0.0125    0.00000  0.036585   \n",
              "3  0.127216  0.045866  1.600922e-03  ...  0.0000    0.00000  0.018293   \n",
              "4  0.137791  0.067999  2.785720e-03  ...  0.0000    0.00000  0.018293   \n",
              "\n",
              "   locCodeAndComment   uniq_Op  uniq_Opnd  total_Op  total_Opnd  branchCount  \\\n",
              "0                1.0  0.002817   0.003822  0.000159    0.001474     0.002484   \n",
              "1                0.5  0.000000   0.003185  0.000000    0.001229     0.000000   \n",
              "2                0.0  0.197183   0.047771  0.034127    0.023342     0.049689   \n",
              "3                0.0  0.211268   0.025478  0.023810    0.019656     0.037267   \n",
              "4                0.0  0.211268   0.038217  0.035714    0.031941     0.062112   \n",
              "\n",
              "   defects  \n",
              "0        0  \n",
              "1        1  \n",
              "2        0  \n",
              "3        0  \n",
              "4        0  \n",
              "\n",
              "[5 rows x 22 columns]"
            ],
            "text/html": [
              "\n",
              "  <div id=\"df-b87f5f69-62f1-4747-a774-4aa0148d0ec9\" class=\"colab-df-container\">\n",
              "    <div>\n",
              "<style scoped>\n",
              "    .dataframe tbody tr th:only-of-type {\n",
              "        vertical-align: middle;\n",
              "    }\n",
              "\n",
              "    .dataframe tbody tr th {\n",
              "        vertical-align: top;\n",
              "    }\n",
              "\n",
              "    .dataframe thead th {\n",
              "        text-align: right;\n",
              "    }\n",
              "</style>\n",
              "<table border=\"1\" class=\"dataframe\">\n",
              "  <thead>\n",
              "    <tr style=\"text-align: right;\">\n",
              "      <th></th>\n",
              "      <th>loc</th>\n",
              "      <th>v(g)</th>\n",
              "      <th>ev(g)</th>\n",
              "      <th>iv(g)</th>\n",
              "      <th>n</th>\n",
              "      <th>v</th>\n",
              "      <th>l</th>\n",
              "      <th>d</th>\n",
              "      <th>i</th>\n",
              "      <th>e</th>\n",
              "      <th>...</th>\n",
              "      <th>lOCode</th>\n",
              "      <th>lOComment</th>\n",
              "      <th>lOBlank</th>\n",
              "      <th>locCodeAndComment</th>\n",
              "      <th>uniq_Op</th>\n",
              "      <th>uniq_Opnd</th>\n",
              "      <th>total_Op</th>\n",
              "      <th>total_Opnd</th>\n",
              "      <th>branchCount</th>\n",
              "      <th>defects</th>\n",
              "    </tr>\n",
              "  </thead>\n",
              "  <tbody>\n",
              "    <tr>\n",
              "      <th>0</th>\n",
              "      <td>0.000237</td>\n",
              "      <td>0.004211</td>\n",
              "      <td>0.013793</td>\n",
              "      <td>0.006452</td>\n",
              "      <td>0.000145</td>\n",
              "      <td>0.000076</td>\n",
              "      <td>1.000000</td>\n",
              "      <td>0.010336</td>\n",
              "      <td>0.004427</td>\n",
              "      <td>6.036150e-07</td>\n",
              "      <td>...</td>\n",
              "      <td>0.0250</td>\n",
              "      <td>0.00590</td>\n",
              "      <td>0.012195</td>\n",
              "      <td>1.0</td>\n",
              "      <td>0.002817</td>\n",
              "      <td>0.003822</td>\n",
              "      <td>0.000159</td>\n",
              "      <td>0.001474</td>\n",
              "      <td>0.002484</td>\n",
              "      <td>0</td>\n",
              "    </tr>\n",
              "    <tr>\n",
              "      <th>1</th>\n",
              "      <td>0.000000</td>\n",
              "      <td>0.000000</td>\n",
              "      <td>0.000000</td>\n",
              "      <td>0.000000</td>\n",
              "      <td>0.000000</td>\n",
              "      <td>0.000058</td>\n",
              "      <td>0.769231</td>\n",
              "      <td>0.007951</td>\n",
              "      <td>0.003405</td>\n",
              "      <td>4.643192e-07</td>\n",
              "      <td>...</td>\n",
              "      <td>0.0125</td>\n",
              "      <td>0.00295</td>\n",
              "      <td>0.006098</td>\n",
              "      <td>0.5</td>\n",
              "      <td>0.000000</td>\n",
              "      <td>0.003185</td>\n",
              "      <td>0.000000</td>\n",
              "      <td>0.001229</td>\n",
              "      <td>0.000000</td>\n",
              "      <td>1</td>\n",
              "    </tr>\n",
              "    <tr>\n",
              "      <th>2</th>\n",
              "      <td>0.054502</td>\n",
              "      <td>0.042105</td>\n",
              "      <td>0.000000</td>\n",
              "      <td>0.032258</td>\n",
              "      <td>0.029894</td>\n",
              "      <td>0.018052</td>\n",
              "      <td>0.084615</td>\n",
              "      <td>0.075535</td>\n",
              "      <td>0.110801</td>\n",
              "      <td>1.363599e-03</td>\n",
              "      <td>...</td>\n",
              "      <td>0.0125</td>\n",
              "      <td>0.00000</td>\n",
              "      <td>0.036585</td>\n",
              "      <td>0.0</td>\n",
              "      <td>0.197183</td>\n",
              "      <td>0.047771</td>\n",
              "      <td>0.034127</td>\n",
              "      <td>0.023342</td>\n",
              "      <td>0.049689</td>\n",
              "      <td>0</td>\n",
              "    </tr>\n",
              "    <tr>\n",
              "      <th>3</th>\n",
              "      <td>0.045024</td>\n",
              "      <td>0.031579</td>\n",
              "      <td>0.103448</td>\n",
              "      <td>0.016129</td>\n",
              "      <td>0.022179</td>\n",
              "      <td>0.012584</td>\n",
              "      <td>0.046154</td>\n",
              "      <td>0.127216</td>\n",
              "      <td>0.045866</td>\n",
              "      <td>1.600922e-03</td>\n",
              "      <td>...</td>\n",
              "      <td>0.0000</td>\n",
              "      <td>0.00000</td>\n",
              "      <td>0.018293</td>\n",
              "      <td>0.0</td>\n",
              "      <td>0.211268</td>\n",
              "      <td>0.025478</td>\n",
              "      <td>0.023810</td>\n",
              "      <td>0.019656</td>\n",
              "      <td>0.037267</td>\n",
              "      <td>0</td>\n",
              "    </tr>\n",
              "    <tr>\n",
              "      <th>4</th>\n",
              "      <td>0.054502</td>\n",
              "      <td>0.052632</td>\n",
              "      <td>0.172414</td>\n",
              "      <td>0.016129</td>\n",
              "      <td>0.034233</td>\n",
              "      <td>0.020213</td>\n",
              "      <td>0.046154</td>\n",
              "      <td>0.137791</td>\n",
              "      <td>0.067999</td>\n",
              "      <td>2.785720e-03</td>\n",
              "      <td>...</td>\n",
              "      <td>0.0000</td>\n",
              "      <td>0.00000</td>\n",
              "      <td>0.018293</td>\n",
              "      <td>0.0</td>\n",
              "      <td>0.211268</td>\n",
              "      <td>0.038217</td>\n",
              "      <td>0.035714</td>\n",
              "      <td>0.031941</td>\n",
              "      <td>0.062112</td>\n",
              "      <td>0</td>\n",
              "    </tr>\n",
              "  </tbody>\n",
              "</table>\n",
              "<p>5 rows × 22 columns</p>\n",
              "</div>\n",
              "    <div class=\"colab-df-buttons\">\n",
              "\n",
              "  <div class=\"colab-df-container\">\n",
              "    <button class=\"colab-df-convert\" onclick=\"convertToInteractive('df-b87f5f69-62f1-4747-a774-4aa0148d0ec9')\"\n",
              "            title=\"Convert this dataframe to an interactive table.\"\n",
              "            style=\"display:none;\">\n",
              "\n",
              "  <svg xmlns=\"http://www.w3.org/2000/svg\" height=\"24px\" viewBox=\"0 -960 960 960\">\n",
              "    <path d=\"M120-120v-720h720v720H120Zm60-500h600v-160H180v160Zm220 220h160v-160H400v160Zm0 220h160v-160H400v160ZM180-400h160v-160H180v160Zm440 0h160v-160H620v160ZM180-180h160v-160H180v160Zm440 0h160v-160H620v160Z\"/>\n",
              "  </svg>\n",
              "    </button>\n",
              "\n",
              "  <style>\n",
              "    .colab-df-container {\n",
              "      display:flex;\n",
              "      gap: 12px;\n",
              "    }\n",
              "\n",
              "    .colab-df-convert {\n",
              "      background-color: #E8F0FE;\n",
              "      border: none;\n",
              "      border-radius: 50%;\n",
              "      cursor: pointer;\n",
              "      display: none;\n",
              "      fill: #1967D2;\n",
              "      height: 32px;\n",
              "      padding: 0 0 0 0;\n",
              "      width: 32px;\n",
              "    }\n",
              "\n",
              "    .colab-df-convert:hover {\n",
              "      background-color: #E2EBFA;\n",
              "      box-shadow: 0px 1px 2px rgba(60, 64, 67, 0.3), 0px 1px 3px 1px rgba(60, 64, 67, 0.15);\n",
              "      fill: #174EA6;\n",
              "    }\n",
              "\n",
              "    .colab-df-buttons div {\n",
              "      margin-bottom: 4px;\n",
              "    }\n",
              "\n",
              "    [theme=dark] .colab-df-convert {\n",
              "      background-color: #3B4455;\n",
              "      fill: #D2E3FC;\n",
              "    }\n",
              "\n",
              "    [theme=dark] .colab-df-convert:hover {\n",
              "      background-color: #434B5C;\n",
              "      box-shadow: 0px 1px 3px 1px rgba(0, 0, 0, 0.15);\n",
              "      filter: drop-shadow(0px 1px 2px rgba(0, 0, 0, 0.3));\n",
              "      fill: #FFFFFF;\n",
              "    }\n",
              "  </style>\n",
              "\n",
              "    <script>\n",
              "      const buttonEl =\n",
              "        document.querySelector('#df-b87f5f69-62f1-4747-a774-4aa0148d0ec9 button.colab-df-convert');\n",
              "      buttonEl.style.display =\n",
              "        google.colab.kernel.accessAllowed ? 'block' : 'none';\n",
              "\n",
              "      async function convertToInteractive(key) {\n",
              "        const element = document.querySelector('#df-b87f5f69-62f1-4747-a774-4aa0148d0ec9');\n",
              "        const dataTable =\n",
              "          await google.colab.kernel.invokeFunction('convertToInteractive',\n",
              "                                                    [key], {});\n",
              "        if (!dataTable) return;\n",
              "\n",
              "        const docLinkHtml = 'Like what you see? Visit the ' +\n",
              "          '<a target=\"_blank\" href=https://colab.research.google.com/notebooks/data_table.ipynb>data table notebook</a>'\n",
              "          + ' to learn more about interactive tables.';\n",
              "        element.innerHTML = '';\n",
              "        dataTable['output_type'] = 'display_data';\n",
              "        await google.colab.output.renderOutput(dataTable, element);\n",
              "        const docLink = document.createElement('div');\n",
              "        docLink.innerHTML = docLinkHtml;\n",
              "        element.appendChild(docLink);\n",
              "      }\n",
              "    </script>\n",
              "  </div>\n",
              "\n",
              "\n",
              "    <div id=\"df-c92bbf14-c07f-4372-a4fb-3fd6c08232c0\">\n",
              "      <button class=\"colab-df-quickchart\" onclick=\"quickchart('df-c92bbf14-c07f-4372-a4fb-3fd6c08232c0')\"\n",
              "                title=\"Suggest charts\"\n",
              "                style=\"display:none;\">\n",
              "\n",
              "<svg xmlns=\"http://www.w3.org/2000/svg\" height=\"24px\"viewBox=\"0 0 24 24\"\n",
              "     width=\"24px\">\n",
              "    <g>\n",
              "        <path d=\"M19 3H5c-1.1 0-2 .9-2 2v14c0 1.1.9 2 2 2h14c1.1 0 2-.9 2-2V5c0-1.1-.9-2-2-2zM9 17H7v-7h2v7zm4 0h-2V7h2v10zm4 0h-2v-4h2v4z\"/>\n",
              "    </g>\n",
              "</svg>\n",
              "      </button>\n",
              "\n",
              "<style>\n",
              "  .colab-df-quickchart {\n",
              "      --bg-color: #E8F0FE;\n",
              "      --fill-color: #1967D2;\n",
              "      --hover-bg-color: #E2EBFA;\n",
              "      --hover-fill-color: #174EA6;\n",
              "      --disabled-fill-color: #AAA;\n",
              "      --disabled-bg-color: #DDD;\n",
              "  }\n",
              "\n",
              "  [theme=dark] .colab-df-quickchart {\n",
              "      --bg-color: #3B4455;\n",
              "      --fill-color: #D2E3FC;\n",
              "      --hover-bg-color: #434B5C;\n",
              "      --hover-fill-color: #FFFFFF;\n",
              "      --disabled-bg-color: #3B4455;\n",
              "      --disabled-fill-color: #666;\n",
              "  }\n",
              "\n",
              "  .colab-df-quickchart {\n",
              "    background-color: var(--bg-color);\n",
              "    border: none;\n",
              "    border-radius: 50%;\n",
              "    cursor: pointer;\n",
              "    display: none;\n",
              "    fill: var(--fill-color);\n",
              "    height: 32px;\n",
              "    padding: 0;\n",
              "    width: 32px;\n",
              "  }\n",
              "\n",
              "  .colab-df-quickchart:hover {\n",
              "    background-color: var(--hover-bg-color);\n",
              "    box-shadow: 0 1px 2px rgba(60, 64, 67, 0.3), 0 1px 3px 1px rgba(60, 64, 67, 0.15);\n",
              "    fill: var(--button-hover-fill-color);\n",
              "  }\n",
              "\n",
              "  .colab-df-quickchart-complete:disabled,\n",
              "  .colab-df-quickchart-complete:disabled:hover {\n",
              "    background-color: var(--disabled-bg-color);\n",
              "    fill: var(--disabled-fill-color);\n",
              "    box-shadow: none;\n",
              "  }\n",
              "\n",
              "  .colab-df-spinner {\n",
              "    border: 2px solid var(--fill-color);\n",
              "    border-color: transparent;\n",
              "    border-bottom-color: var(--fill-color);\n",
              "    animation:\n",
              "      spin 1s steps(1) infinite;\n",
              "  }\n",
              "\n",
              "  @keyframes spin {\n",
              "    0% {\n",
              "      border-color: transparent;\n",
              "      border-bottom-color: var(--fill-color);\n",
              "      border-left-color: var(--fill-color);\n",
              "    }\n",
              "    20% {\n",
              "      border-color: transparent;\n",
              "      border-left-color: var(--fill-color);\n",
              "      border-top-color: var(--fill-color);\n",
              "    }\n",
              "    30% {\n",
              "      border-color: transparent;\n",
              "      border-left-color: var(--fill-color);\n",
              "      border-top-color: var(--fill-color);\n",
              "      border-right-color: var(--fill-color);\n",
              "    }\n",
              "    40% {\n",
              "      border-color: transparent;\n",
              "      border-right-color: var(--fill-color);\n",
              "      border-top-color: var(--fill-color);\n",
              "    }\n",
              "    60% {\n",
              "      border-color: transparent;\n",
              "      border-right-color: var(--fill-color);\n",
              "    }\n",
              "    80% {\n",
              "      border-color: transparent;\n",
              "      border-right-color: var(--fill-color);\n",
              "      border-bottom-color: var(--fill-color);\n",
              "    }\n",
              "    90% {\n",
              "      border-color: transparent;\n",
              "      border-bottom-color: var(--fill-color);\n",
              "    }\n",
              "  }\n",
              "</style>\n",
              "\n",
              "      <script>\n",
              "        async function quickchart(key) {\n",
              "          const quickchartButtonEl =\n",
              "            document.querySelector('#' + key + ' button');\n",
              "          quickchartButtonEl.disabled = true;  // To prevent multiple clicks.\n",
              "          quickchartButtonEl.classList.add('colab-df-spinner');\n",
              "          try {\n",
              "            const charts = await google.colab.kernel.invokeFunction(\n",
              "                'suggestCharts', [key], {});\n",
              "          } catch (error) {\n",
              "            console.error('Error during call to suggestCharts:', error);\n",
              "          }\n",
              "          quickchartButtonEl.classList.remove('colab-df-spinner');\n",
              "          quickchartButtonEl.classList.add('colab-df-quickchart-complete');\n",
              "        }\n",
              "        (() => {\n",
              "          let quickchartButtonEl =\n",
              "            document.querySelector('#df-c92bbf14-c07f-4372-a4fb-3fd6c08232c0 button');\n",
              "          quickchartButtonEl.style.display =\n",
              "            google.colab.kernel.accessAllowed ? 'block' : 'none';\n",
              "        })();\n",
              "      </script>\n",
              "    </div>\n",
              "\n",
              "    </div>\n",
              "  </div>\n"
            ],
            "application/vnd.google.colaboratory.intrinsic+json": {
              "type": "dataframe",
              "variable_name": "df"
            }
          },
          "metadata": {},
          "execution_count": 8
        }
      ]
    },
    {
      "cell_type": "code",
      "source": [
        "# 3. Pisahkan fitur dan target\n",
        "X = df.drop(columns='defects')\n",
        "y = df['defects']"
      ],
      "metadata": {
        "id": "yrpfGWnZPBbl"
      },
      "execution_count": 9,
      "outputs": []
    },
    {
      "cell_type": "code",
      "source": [
        "# 4. Cek distribusi label sebelum SMOTE\n",
        "sns.countplot(x=y)\n",
        "plt.title(\"Distribusi Label Sebelum SMOTE\")\n",
        "plt.show()"
      ],
      "metadata": {
        "colab": {
          "base_uri": "https://localhost:8080/",
          "height": 472
        },
        "id": "ixlItAgKPC2Y",
        "outputId": "36492c00-9844-4dae-cc32-56656fa2b95a"
      },
      "execution_count": 10,
      "outputs": [
        {
          "output_type": "display_data",
          "data": {
            "text/plain": [
              "<Figure size 640x480 with 1 Axes>"
            ],
            "image/png": "[encoded data removed]"
          },
          "metadata": {}
        }
      ]
    },
    {
      "cell_type": "code",
      "source": [
        "# 5. Split data latih dan uji\n",
        "X_train, X_test, y_train, y_test = train_test_split(\n",
        "    X, y, test_size=0.2, random_state=42\n",
        ")"
      ],
      "metadata": {
        "id": "mt_UUGCDPD3N"
      },
      "execution_count": 11,
      "outputs": []
    },
    {
      "cell_type": "code",
      "source": [
        "# 6. Terapkan SMOTE pada data latih\n",
        "sm = SMOTE(random_state=42)\n",
        "X_train_resampled, y_train_resampled = sm.fit_resample(X_train, y_train)"
      ],
      "metadata": {
        "id": "_MxMDUE6QVbM"
      },
      "execution_count": 12,
      "outputs": []
    },
    {
      "cell_type": "code",
      "source": [
        "# 7. Cek distribusi label setelah SMOTE\n",
        "sns.countplot(x=y_train_resampled)\n",
        "plt.title(\"Distribusi Label Setelah SMOTE (Training Set)\")\n",
        "plt.show()"
      ],
      "metadata": {
        "colab": {
          "base_uri": "https://localhost:8080/",
          "height": 472
        },
        "id": "EQXR6aq2QWd6",
        "outputId": "98053286-7493-4437-9c6c-67ba93df84dd"
      },
      "execution_count": 13,
      "outputs": [
        {
          "output_type": "display_data",
          "data": {
            "text/plain": [
              "<Figure size 640x480 with 1 Axes>"
            ],
            "image/png": "[encoded data removed]"
          },
          "metadata": {}
        }
      ]
    },
    {
      "cell_type": "code",
      "source": [
        "# 8. Inisialisasi model\n",
        "models = {\n",
        "    \"Logistic Regression\": LogisticRegression(),\n",
        "    \"Random Forest\": RandomForestClassifier(),\n",
        "    \"K-Nearest Neighbors\": KNeighborsClassifier()\n",
        "}"
      ],
      "metadata": {
        "id": "vCnKYSr8QXgb"
      },
      "execution_count": 14,
      "outputs": []
    },
    {
      "cell_type": "code",
      "source": [
        "# 9. Latih dan evaluasi model\n",
        "for name, model in models.items():\n",
        "    print(f\"\\n========== {name} ==========\")\n",
        "    model.fit(X_train_resampled, y_train_resampled)\n",
        "    y_pred = model.predict(X_test)\n",
        "\n",
        "    print(\"Akurasi:\", accuracy_score(y_test, y_pred))\n",
        "    print(classification_report(y_test, y_pred))\n",
        "\n",
        "    # Confusion Matrix\n",
        "    cm = confusion_matrix(y_test, y_pred)\n",
        "    plt.figure(figsize=(4, 3))\n",
        "    sns.heatmap(cm, annot=True, fmt=\"d\", cmap=\"Blues\")\n",
        "    plt.title(f\"Confusion Matrix - {name}\")\n",
        "    plt.xlabel(\"Predicted\")\n",
        "    plt.ylabel(\"Actual\")\n",
        "    plt.show()"
      ],
      "metadata": {
        "colab": {
          "base_uri": "https://localhost:8080/",
          "height": 1000
        },
        "id": "JeLHrbqcQYVp",
        "outputId": "9432af8c-8f09-4579-ddad-87495899243f"
      },
      "execution_count": 15,
      "outputs": [
        {
          "output_type": "stream",
          "name": "stdout",
          "text": [
            "\n",
            "========== Logistic Regression ==========\n",
            "Akurasi: 0.82\n",
            "              precision    recall  f1-score   support\n",
            "\n",
            "           0       0.96      0.83      0.89        88\n",
            "           1       0.38      0.75      0.50        12\n",
            "\n",
            "    accuracy                           0.82       100\n",
            "   macro avg       0.67      0.79      0.70       100\n",
            "weighted avg       0.89      0.82      0.84       100\n",
            "\n"
          ]
        },
        {
          "output_type": "display_data",
          "data": {
            "text/plain": [
              "<Figure size 400x300 with 2 Axes>"
            ],
            "image/png": "[encoded data removed]"
          },
          "metadata": {}
        },
        {
          "output_type": "stream",
          "name": "stdout",
          "text": [
            "\n",
            "========== Random Forest ==========\n",
            "Akurasi: 0.83\n",
            "              precision    recall  f1-score   support\n",
            "\n",
            "           0       0.87      0.94      0.91        88\n",
            "           1       0.00      0.00      0.00        12\n",
            "\n",
            "    accuracy                           0.83       100\n",
            "   macro avg       0.44      0.47      0.45       100\n",
            "weighted avg       0.77      0.83      0.80       100\n",
            "\n"
          ]
        },
        {
          "output_type": "display_data",
          "data": {
            "text/plain": [
              "<Figure size 400x300 with 2 Axes>"
            ],
            "image/png": "[encoded data removed]"
          },
          "metadata": {}
        },
        {
          "output_type": "stream",
          "name": "stdout",
          "text": [
            "\n",
            "========== K-Nearest Neighbors ==========\n",
            "Akurasi: 0.68\n",
            "              precision    recall  f1-score   support\n",
            "\n",
            "           0       0.89      0.73      0.80        88\n",
            "           1       0.14      0.33      0.20        12\n",
            "\n",
            "    accuracy                           0.68       100\n",
            "   macro avg       0.52      0.53      0.50       100\n",
            "weighted avg       0.80      0.68      0.73       100\n",
            "\n"
          ]
        },
        {
          "output_type": "display_data",
          "data": {
            "text/plain": [
              "<Figure size 400x300 with 2 Axes>"
            ],
            "image/png": "[encoded data removed]"
          },
          "metadata": {}
        }
      ]
    },
    {
      "cell_type": "markdown",
      "source": [
        "Berdasarkan hasil evaluasi terhadap tiga algoritma klasifikasi—Logistic Regression, Random Forest, dan K-Nearest Neighbors—dengan dataset cm1 dari NASA MDP yang telah diseimbangkan menggunakan teknik SMOTE, diperoleh bahwa:\n",
        "\n",
        "Logistic Regression memberikan performa terbaik secara keseluruhan.\n",
        "\n",
        "Meskipun akurasinya tidak tertinggi (82%), algoritma ini mampu mendeteksi 75% kasus defect (kelas 1), yang merupakan fokus utama dalam penelitian ini.\n",
        "\n",
        "Sementara itu, Random Forest dan KNN gagal memberikan hasil yang memuaskan terhadap kelas defect, di mana Random Forest bahkan tidak berhasil mendeteksi satu pun modul cacat (recall = 0%).\n",
        "\n",
        "Dengan demikian, Logistic Regression menjadi algoritma yang paling efektif dalam konteks prediksi defect perangkat lunak untuk dataset ini, karena seimbang antara akurasi dan kemampuan deteksi terhadap kelas minoritas (defect)."
      ],
      "metadata": {
        "id": "6R_kKZZjQ-9n"
      }
    }
  ]
}